{
 "cells": [
  {
   "cell_type": "code",
   "execution_count": 28,
   "id": "06a06510-7ae7-4f36-b92e-3f7650dff338",
   "metadata": {},
   "outputs": [],
   "source": [
    "import math\n",
    "import numpy as np\n",
    "import matplotlib.pyplot as plt\n",
    "import graphviz\n",
    "\n",
    "%matplotlib inline\n",
    "\n",
    "\n",
    "# backpropagation is applying the chain rule locally backwards through the chain\n",
    "# topilogical means all nodes are laid out from left to right in one line\n",
    "\n",
    "# initialize o.grad as 1.0 because you multiply it in\n",
    "# o._backward() which will make it 0 if you don't initialize \n",
    "\n",
    "# there is a bug that we must fix\n",
    "# this happens when you use the same node twice\n",
    "# multivariable calculus chain rule says that gradients should 'accumulate'\n",
    "# grad should be 2 but since we initiate a 1.0 we get 1.0 * 1.0\n",
    "# neural nets are mathamatical expressions that take input as data dealing with loss function and propagating forwards + backwards all with biases and weights"
   ]
  },
  {
   "cell_type": "code",
   "execution_count": 29,
   "id": "bdd38256-ede1-48fc-84ea-016eb9367143",
   "metadata": {},
   "outputs": [],
   "source": [
    "def f(x):\n",
    "    return 3*x**2 - 4*x + 5\n",
    "\n",
    "# here we are defining f(x)"
   ]
  },
  {
   "cell_type": "code",
   "execution_count": 30,
   "id": "3b784524-bfed-4cad-9b04-fb1fecaf1d54",
   "metadata": {},
   "outputs": [
    {
     "data": {
      "text/plain": [
       "20.0"
      ]
     },
     "execution_count": 30,
     "metadata": {},
     "output_type": "execute_result"
    }
   ],
   "source": [
    "f(3.0)\n",
    "# here we enter a value for f"
   ]
  },
  {
   "cell_type": "code",
   "execution_count": 31,
   "id": "78798f88-bcdb-41a3-a0a3-1d8a6c5d5f16",
   "metadata": {},
   "outputs": [
    {
     "data": {
      "text/plain": [
       "[<matplotlib.lines.Line2D at 0x7fe3b861b210>]"
      ]
     },
     "execution_count": 31,
     "metadata": {},
     "output_type": "execute_result"
    },
    {
     "data": {
      "image/png": "[encoded data removed]",
      "text/plain": [
       "<Figure size 640x480 with 1 Axes>"
      ]
     },
     "metadata": {},
     "output_type": "display_data"
    }
   ],
   "source": [
    "xs = np.arange(-5, 5, 0.25)\n",
    "# x values\n",
    "ys = f(xs)\n",
    "# y values\n",
    "plt.plot(xs, ys)\n",
    "# plot the xs and ys"
   ]
  },
  {
   "cell_type": "code",
   "execution_count": 32,
   "id": "2981b46a-2cbd-4f04-9b00-d7b5bb7559d3",
   "metadata": {},
   "outputs": [
    {
     "data": {
      "text/plain": [
       "3.0000002482211127e-05"
      ]
     },
     "execution_count": 32,
     "metadata": {},
     "output_type": "execute_result"
    }
   ],
   "source": [
    "h = 0.00001\n",
    "x = 2/3\n",
    "(f(x + h) - f(x))/h"
   ]
  },
  {
   "cell_type": "code",
   "execution_count": 33,
   "id": "d01204dc-c7bf-472e-9145-51796e9c108d",
   "metadata": {},
   "outputs": [
    {
     "name": "stdout",
     "output_type": "stream",
     "text": [
      "4.0\n"
     ]
    }
   ],
   "source": [
    "#now more complex\n",
    "a = 2.0\n",
    "b = -3.0\n",
    "c = 10.0\n",
    "d = a*b + c\n",
    "\n",
    "#d is a value created by three scalar objects\n",
    "print(d)"
   ]
  },
  {
   "cell_type": "code",
   "execution_count": 34,
   "id": "843c587b-753c-4d3d-851b-bed8a90e0fdb",
   "metadata": {},
   "outputs": [
    {
     "name": "stdout",
     "output_type": "stream",
     "text": [
      "d1 4.0\n",
      "d2 4.0001\n",
      "slope 0.9999999999976694\n"
     ]
    }
   ],
   "source": [
    "h = 0.0001\n",
    "\n",
    "#inputs\n",
    "a = 2.0\n",
    "b = -3.0\n",
    "c = 10.0\n",
    "\n",
    "d1 = a*b + c\n",
    "c += h\n",
    "d2 = a*b + c\n",
    "\n",
    "print('d1', d1)\n",
    "print('d2', d2)\n",
    "print('slope', (d2- d1)/h)\n",
    "#the slope is the rate at which d increases as we move down the line"
   ]
  },
  {
   "cell_type": "code",
   "execution_count": 35,
   "id": "eef234c5-2f77-4d90-bb24-d782fc8912e9",
   "metadata": {},
   "outputs": [],
   "source": [
    "class Value:\n",
    "    \n",
    "    #_children will be a tuple and later a class\n",
    "    def __init__(self, data, _children=(), _op='', label=''):\n",
    "        self.data = data\n",
    "        self.grad = 0.0\n",
    "        self._backward = lambda: None\n",
    "        self._prev = set(_children)\n",
    "        self._op = _op\n",
    "        self.label = label\n",
    "        \n",
    "    #we are making a string that presents the data value\n",
    "    def __repr__(self):\n",
    "        return f\"Value(data={self.data})\"\n",
    "    \n",
    "    #we must define how to add since python can't add objects\n",
    "    def __add__(self, other):\n",
    "        other = other if isinstance(other, Value) else Value(other)\n",
    "        out = Value(self.data + other.data, (self, other), '+')\n",
    "        \n",
    "        def _backward():\n",
    "            self.grad += 1.0 * out.grad\n",
    "            other.grad += 1.0 * out.grad\n",
    "        out._backward = _backward\n",
    "        \n",
    "        return out\n",
    "    \n",
    "    def __mul__(self, other):\n",
    "        other = other if isinstance(other, Value) else Value(other)\n",
    "        out = Value(self.data * other.data, (self, other), '*')\n",
    "        \n",
    "        def _backward():\n",
    "            self.grad += other.data * out.grad\n",
    "            other.grad += self.data * out.grad\n",
    "        out._backward = _backward\n",
    "        \n",
    "        return out\n",
    "    \n",
    "    def __pow__(self, other):\n",
    "        assert isinstance(other, (int, float)), \"only supporting int/float powers for now\"\n",
    "        out = Value(self.data**other, (self,), f'**{other}')\n",
    "\n",
    "        def _backward():\n",
    "            self.grad += other * (self.data ** (other - 1)) * out.grad\n",
    "        out._backward = _backward\n",
    "\n",
    "        return out\n",
    "\n",
    "    def __rmul__(self, other): # other * self\n",
    "        return self * other\n",
    "    \n",
    "    def __truediv__(self, other): # self / other\n",
    "        return self * other**-1\n",
    "    \n",
    "    def __neg__(self): # -self\n",
    "        return self * -1\n",
    "    \n",
    "    def __sub__(self, other): # self - other\n",
    "        return self + (-other)\n",
    "\n",
    "    def __radd__(self, other): # other + self\n",
    "        return self + other\n",
    "    \n",
    "    def tanh(self):\n",
    "        x = self.data\n",
    "        t = (math.exp(2*x) - 1)/(math.exp(2*x) + 1)\n",
    "        out = Value(t, (self, ), 'tanh')\n",
    "        \n",
    "        def _backward():\n",
    "            self.grad += (1 - t**2) * out.grad\n",
    "        out._backward = _backward\n",
    "        \n",
    "        return out\n",
    "    \n",
    "    def exp(self):\n",
    "        x = self.data\n",
    "        out = Value(math.exp(x), (self, ), 'exp')\n",
    "\n",
    "        def _backward():\n",
    "            self.grad += out.data * out.grad # NOTE: in the video I incorrectly used = instead of +=. Fixed here.\n",
    "        out._backward = _backward\n",
    "\n",
    "        return out\n",
    "    \n",
    "    def backward(self):\n",
    "        # this will build a topilogical graph\n",
    "        # topilogical means all nodes are laid out from left to right in one line\n",
    "        topo = []\n",
    "        visited = set()\n",
    "        def build_topo(v):\n",
    "            if v not in visited: # if not visited\n",
    "                visited.add(v) # mark as visited\n",
    "                for child in v._prev:\n",
    "                    build_topo(child)\n",
    "                topo.append(v)\n",
    "        build_topo(self)\n",
    "        \n",
    "        self.grad = 1.0\n",
    "        for node in reversed(topo):\n",
    "            node._backward()"
   ]
  },
  {
   "cell_type": "code",
   "execution_count": 36,
   "id": "988727fd-e3f1-4a4d-9a83-98da5aca0a34",
   "metadata": {},
   "outputs": [
    {
     "data": {
      "text/plain": [
       "Value(data=-2.0)"
      ]
     },
     "execution_count": 36,
     "metadata": {},
     "output_type": "execute_result"
    }
   ],
   "source": [
    "# this is a forward pass\n",
    "a = Value(2.0)\n",
    "b = Value(4.)\n",
    "a - b"
   ]
  },
  {
   "cell_type": "code",
   "execution_count": 37,
   "id": "1075cd8b-e3c0-4238-b1bc-ff0d07c0116a",
   "metadata": {},
   "outputs": [],
   "source": [
    "from graphviz import Digraph\n",
    "\n",
    "def trace(root):\n",
    "  # builds a set of all nodes and edges in a graph\n",
    "  nodes, edges = set(), set()\n",
    "  def build(v):\n",
    "    if v not in nodes:\n",
    "      nodes.add(v)\n",
    "      for child in v._prev:\n",
    "        edges.add((child, v))\n",
    "        build(child)\n",
    "  build(root)\n",
    "  return nodes, edges\n",
    "\n",
    "def draw_dot(root):\n",
    "  dot = Digraph(format='svg', graph_attr={'rankdir': 'LR'}) # LR = left to right\n",
    "  \n",
    "  nodes, edges = trace(root)\n",
    "  for n in nodes:\n",
    "    uid = str(id(n))\n",
    "    # for any value in the graph, create a rectangular ('record') node for it\n",
    "    dot.node(name = uid, label = \"{ %s | data %.4f | grad %.4f }\" % (n.label, n.data, n.grad), shape='record')\n",
    "    if n._op:\n",
    "      # if this value is a result of some operation, create an op node for it\n",
    "      dot.node(name = uid + n._op, label = n._op)\n",
    "      # and connect this node to it\n",
    "      dot.edge(uid + n._op, uid) # here we created edges\n",
    "\n",
    "  for n1, n2 in edges:\n",
    "    # connect n1 to the op node of n2\n",
    "    dot.edge(str(id(n1)), str(id(n2)) + n2._op)\n",
    "\n",
    "  return dot"
   ]
  },
  {
   "cell_type": "code",
   "execution_count": 38,
   "id": "567735be-45a8-48e6-9aac-fb91afe1afb7",
   "metadata": {},
   "outputs": [],
   "source": [
    "# dL / de = -2.0\n",
    "\n",
    "# e = a * b\n",
    "# de / da? b\n",
    "\n",
    "# dL / da = (dL / de) * (de /da)"
   ]
  },
  {
   "cell_type": "code",
   "execution_count": 39,
   "id": "b1c5a900-6d86-4896-ad43-9c3f495ffc11",
   "metadata": {},
   "outputs": [],
   "source": [
    "# L = d * f\n",
    "\n",
    "# dL/dd =? f\n",
    "\n",
    "# (f(x+h)-f(x))/h\n",
    "\n",
    "# ((d+h)*f - d*f)/h\n",
    "# (d*f + h*f -d*f) / h\n",
    "# (h*f)/h\n",
    "# f"
   ]
  },
  {
   "cell_type": "code",
   "execution_count": 40,
   "id": "9b9b0342-b08c-4f88-9a0a-1fe6f54d9456",
   "metadata": {},
   "outputs": [],
   "source": [
    "# dd / dc = 1.0\n",
    "# dd / de = 1.0\n",
    "# d = c + e\n",
    "\n",
    "# (f(x +h) - f(x)) / h\n",
    "\n",
    "# ((c+h + e) - (c + e))/h\n",
    "# (c + h + e - c - el)/h\n",
    "\n",
    "# h/h\n",
    "\n",
    "# 1.0\n",
    "\n",
    "# look up the CHAIN RULE from calculus and refresh\n",
    "\n",
    "# WANT:\n",
    "# dL / dc = (dL/dd * dd/dc)\n",
    "\n",
    "# KNOW:\n",
    "# dL / dd\n",
    "# dd / dc"
   ]
  },
  {
   "cell_type": "code",
   "execution_count": 41,
   "id": "d49b70c2-59f8-42b2-aa9b-7482f2c59e99",
   "metadata": {},
   "outputs": [
    {
     "data": {
      "image/png": "[encoded data removed]",
      "text/plain": [
       "<Figure size 640x480 with 1 Axes>"
      ]
     },
     "metadata": {},
     "output_type": "display_data"
    }
   ],
   "source": [
    "# this is tanh\n",
    "plt.plot(np.arange(-5,5,0.2), np.tanh(np.arange(-5,5,0.2))); plt.grid()"
   ]
  },
  {
   "cell_type": "code",
   "execution_count": 42,
   "id": "a6c84dab-c37c-4816-8675-1d4540603017",
   "metadata": {},
   "outputs": [],
   "source": [
    "# inputs x1, x2\n",
    "# this is a two dimensional neuron\n",
    "x1 = Value(2.0, label='x1')\n",
    "x2 = Value(0.0, label='x2')\n",
    "# weights w1, w2\n",
    "# weights are the synamptic strength of the neuron\n",
    "w1 = Value(-3.0, label='w1')\n",
    "w2 = Value(1.0, label='w2')\n",
    "# this is the bias\n",
    "b = Value(6.8813735870195432, label='b')\n",
    "# x1*w1 + x2*w2 + b\n",
    "x1w1 = x1*w1; x1w1.label = 'x1w1'\n",
    "x2w2 = x2*w2; x2w2.label = 'x2w2'\n",
    "x1w1x2w2 = x1w1 + x2w2; x1w1x2w2.label = 'x1*w1 + x2*w2'\n",
    "n = x1w1x2w2 + b; n.label = 'n'\n",
    "\n",
    "#output\n",
    "o = n.tanh(); o.label = 'o'\n",
    "\n",
    "o.backward()"
   ]
  },
  {
   "cell_type": "code",
   "execution_count": 43,
   "id": "92782ce8-1f88-4367-b14e-047cd5da1a6a",
   "metadata": {},
   "outputs": [],
   "source": [
    "# draw_dot(o)"
   ]
  },
  {
   "cell_type": "code",
   "execution_count": 44,
   "id": "7e943aa0-0f33-46ff-8c26-f499df32b1be",
   "metadata": {},
   "outputs": [],
   "source": [
    "# inputs x1, x2\n",
    "# this is a two dimensional neuron\n",
    "x1 = Value(2.0, label='x1')\n",
    "x2 = Value(0.0, label='x2')\n",
    "# weights w1, w2\n",
    "# weights are the synamptic strength of the neuron\n",
    "w1 = Value(-3.0, label='w1')\n",
    "w2 = Value(1.0, label='w2')\n",
    "# this is the bias\n",
    "b = Value(6.8813735870195432, label='b')\n",
    "# x1*w1 + x2*w2 + b\n",
    "x1w1 = x1*w1; x1w1.label = 'x1w1'\n",
    "x2w2 = x2*w2; x2w2.label = 'x2w2'\n",
    "x1w1x2w2 = x1w1 + x2w2; x1w1x2w2.label = 'x1*w1 + x2*w2'\n",
    "n = x1w1x2w2 + b; n.label = 'n'\n",
    "\n",
    "#output\n",
    "# we are breaking up tanh\n",
    "e = (2*n).exp()\n",
    "o = (e - 1) / (e + 1)\n",
    "\n",
    "o.label = 'o'\n",
    "\n",
    "o.backward()\n",
    "\n",
    "# draw_dot(o)"
   ]
  },
  {
   "cell_type": "code",
   "execution_count": 45,
   "id": "03232dd8-3e03-45ea-88bb-748a33cea8b0",
   "metadata": {},
   "outputs": [],
   "source": [
    "import torch"
   ]
  },
  {
   "cell_type": "code",
   "execution_count": 46,
   "id": "0ae53462-0281-4e8a-9c00-ebc054c847fc",
   "metadata": {},
   "outputs": [
    {
     "name": "stdout",
     "output_type": "stream",
     "text": [
      "0.7071066904050358\n",
      "---\n",
      "x2 0.5000001283844369\n",
      "w2 0.0\n",
      "x1 -1.5000003851533106\n",
      "w1 1.0000002567688737\n"
     ]
    }
   ],
   "source": [
    "# this helps create single scalar tensors\n",
    "# we can use pytorch to create micrograd only if we deal with\n",
    "    # single element tensors first\n",
    "\n",
    "x1 = torch.Tensor([2.0]).double()                ; x1.requires_grad = True\n",
    "x2 = torch.Tensor([0.0]).double()                ; x2.requires_grad = True\n",
    "w1 = torch.Tensor([-3.0]).double()               ; w1.requires_grad = True\n",
    "w2 = torch.Tensor([1.0]).double()                ; w2.requires_grad = True\n",
    "b = torch.Tensor([6.8813735870195432]).double()  ; b.requires_grad = True\n",
    "n = x1*w1 + x2*w2 + b\n",
    "o = torch.tanh(n)\n",
    "\n",
    "# we will \"strip\" out the tensor to get one item\n",
    "print(o.data.item())\n",
    "o.backward()\n",
    "\n",
    "print('---')\n",
    "print('x2', x2.grad.item())\n",
    "print('w2', w2.grad.item())\n",
    "print('x1', x1.grad.item())\n",
    "print('w1', w1.grad.item())"
   ]
  },
  {
   "cell_type": "code",
   "execution_count": 47,
   "id": "c39eff46-6bab-4bdf-af15-a3857098c091",
   "metadata": {},
   "outputs": [],
   "source": [
    "\n",
    "import random\n",
    "\n",
    "# r = random.randint(1,10)\n",
    "\n",
    "class Neuron:\n",
    "  \n",
    "  def __init__(self, nin): # creates a weight and bias for the neuron\n",
    "    self.w = [Value(random.uniform(-1,1)) for _ in range(nin)]\n",
    "    self.b = Value(random.uniform(-1,1))\n",
    "  \n",
    "  def __call__(self, x):\n",
    "    # w * x + b\n",
    "    # w * x is a dot product\n",
    "    act = sum((wi*xi for wi, xi in zip(self.w, x)), self.b)\n",
    "    out = act.tanh()\n",
    "    return out\n",
    "\n",
    "  def parameters(self):\n",
    "    return self.w + [self.b]\n",
    "\n",
    "class Layer:\n",
    "  \n",
    "  def __init__(self, nin, nout): # list of neurons and how many\n",
    "    self.neurons = [Neuron(nin) for _ in range(nout)]\n",
    "  \n",
    "  def __call__(self, x):\n",
    "    outs = [n(x) for n in self.neurons]\n",
    "    return outs[0] if len(outs) == 1 else outs # get the last layer's neuron out\n",
    "\n",
    "  def parameters(self):\n",
    "    return [p for neuron in self.neurons for p in neuron.parameters()]\n",
    "        # this line is the same as below\n",
    "        # params = []\n",
    "        # for neurons in self.neurons:\n",
    "        #     ps = neuron.parameters()\n",
    "        #     params.extend(ps)\n",
    "        # return params\n",
    "\n",
    "class MLP:\n",
    "  \n",
    "  def __init__(self, nin, nouts): # number of inputs, and take a list of layers\n",
    "    sz = [nin] + nouts\n",
    "    self.layers = [Layer(sz[i], sz[i+1]) for i in range(len(nouts))]\n",
    "  \n",
    "  def __call__(self, x):\n",
    "    for layer in self.layers:\n",
    "      x = layer(x)\n",
    "    return x\n",
    "\n",
    "  def parameters(self):\n",
    "    return [p for layer in self.layers for p in layer.parameters()]"
   ]
  },
  {
   "cell_type": "code",
   "execution_count": 48,
   "id": "5f88538e-a5b4-4a87-bd60-33c2163e5582",
   "metadata": {},
   "outputs": [
    {
     "data": {
      "text/plain": [
       "Value(data=-0.9994288885671554)"
      ]
     },
     "execution_count": 48,
     "metadata": {},
     "output_type": "execute_result"
    }
   ],
   "source": [
    "x = [2.0, 3.0, -1.0]\n",
    "n = MLP(3, [4, 4, 1])\n",
    "n(x)"
   ]
  },
  {
   "cell_type": "code",
   "execution_count": 49,
   "id": "7e83b463-859c-47c2-9499-353723cb3b59",
   "metadata": {},
   "outputs": [
    {
     "data": {
      "text/plain": [
       "[Value(data=-0.8595065279190441),\n",
       " Value(data=-0.18911095418137713),\n",
       " Value(data=0.32970813304792546),\n",
       " Value(data=0.5468407500831989),\n",
       " Value(data=0.9287802894657529),\n",
       " Value(data=0.3424041312580497),\n",
       " Value(data=-0.9468444155147853),\n",
       " Value(data=0.6876371337310472),\n",
       " Value(data=0.09351529359168764),\n",
       " Value(data=0.9367368071049391),\n",
       " Value(data=-0.03924724595804219),\n",
       " Value(data=0.5405012918039596),\n",
       " Value(data=-0.4279699271427473),\n",
       " Value(data=0.22789552900983434),\n",
       " Value(data=-0.8967622806420634),\n",
       " Value(data=0.2774888798291386),\n",
       " Value(data=0.015506550647772954),\n",
       " Value(data=0.8453450094476558),\n",
       " Value(data=0.20865339084607104),\n",
       " Value(data=0.11169352017602763),\n",
       " Value(data=0.6327457838422907),\n",
       " Value(data=0.3629141657452255),\n",
       " Value(data=-0.5301468321518805),\n",
       " Value(data=0.3185993535475313),\n",
       " Value(data=-0.811041925004603),\n",
       " Value(data=-0.5623808071133425),\n",
       " Value(data=-0.832148238376242),\n",
       " Value(data=0.8268531325165431),\n",
       " Value(data=0.2744040306804769),\n",
       " Value(data=-0.3634925822071311),\n",
       " Value(data=0.7138399969739737),\n",
       " Value(data=-0.7327573657175184),\n",
       " Value(data=0.48218558676474066),\n",
       " Value(data=0.861897078533413),\n",
       " Value(data=-0.024880419791677655),\n",
       " Value(data=0.38779809049189695),\n",
       " Value(data=-0.8608693659613875),\n",
       " Value(data=0.6438657116483837),\n",
       " Value(data=-0.743686488415104),\n",
       " Value(data=-0.9796727488204586),\n",
       " Value(data=-0.9692415585899674)]"
      ]
     },
     "execution_count": 49,
     "metadata": {},
     "output_type": "execute_result"
    }
   ],
   "source": [
    "n.parameters()\n",
    "#41 parameters in the NLP"
   ]
  },
  {
   "cell_type": "code",
   "execution_count": 55,
   "id": "c2be8777-33cd-46b6-9d42-3426370f8880",
   "metadata": {},
   "outputs": [],
   "source": [
    "# draw_dot(n(x))\n",
    "# uncomment this line to generate the graph of the neuron"
   ]
  },
  {
   "cell_type": "code",
   "execution_count": 50,
   "id": "81f67005-2591-4bcf-acc2-e47139162a18",
   "metadata": {},
   "outputs": [],
   "source": [
    "xs = [\n",
    "  [2.0, 3.0, -1.0],\n",
    "  [3.0, -1.0, 0.5],\n",
    "  [0.5, 1.0, 1.0],\n",
    "  [1.0, 1.0, -1.0],\n",
    "]\n",
    "ys = [1.0, -1.0, -1.0, 1.0] # desired targets"
   ]
  },
  {
   "cell_type": "code",
   "execution_count": 51,
   "id": "6b783d17-692a-4eea-9cd3-b48dcea77a31",
   "metadata": {},
   "outputs": [
    {
     "name": "stdout",
     "output_type": "stream",
     "text": [
      "0 7.995306323980186\n",
      "1 7.9952643876819804\n",
      "2 7.9952217006860185\n",
      "3 7.995178242726741\n",
      "4 7.995133992804278\n",
      "5 7.995088929150953\n",
      "6 7.995043029195926\n",
      "7 7.9949962695278725\n",
      "8 7.994948625855568\n",
      "9 7.994900072966235\n",
      "10 7.994850584681499\n",
      "11 7.994800133810807\n",
      "12 7.994748692102121\n",
      "13 7.994696230189706\n",
      "14 7.994642717538813\n",
      "15 7.994588122387032\n",
      "16 7.994532411682094\n",
      "17 7.9944755510158405\n",
      "18 7.994417504554123\n",
      "19 7.9943582349623\n"
     ]
    }
   ],
   "source": [
    "# loss measures how well the neural net is performing\n",
    "# minimize loss\n",
    "\n",
    "# if you prediction is exactly the target you're going to get 0.0\n",
    "# the parameter of range() is how many steps you want\n",
    "for k in range(20):\n",
    "    #forward pass\n",
    "    ypred = [n(x) for x in xs]\n",
    "    loss = sum([(yout - ygt)**2 for ygt, yout in zip(ys, ypred)])\n",
    "    \n",
    "    #backward pass\n",
    "    for p in n.parameters():\n",
    "        p.grad = 0.0\n",
    "    loss.backward()\n",
    "    \n",
    "    #update\n",
    "    for p in n.parameters():\n",
    "        p.data += -0.1 * p.grad\n",
    "        \n",
    "    print(k, loss.data)"
   ]
  },
  {
   "cell_type": "code",
   "execution_count": 52,
   "id": "4eb510d0-873b-430d-b7ef-209cb82da1ab",
   "metadata": {},
   "outputs": [],
   "source": [
    "# gradient descent is made of these last three cells\n",
    "# forward pass, backward pass, update\n",
    "# the neural net improves its predictions each time"
   ]
  },
  {
   "cell_type": "code",
   "execution_count": 53,
   "id": "974739b9-91d9-46f1-a9f1-c4fb87431f81",
   "metadata": {},
   "outputs": [
    {
     "data": {
      "text/plain": [
       "[Value(data=-0.9993129151365346),\n",
       " Value(data=-0.9986225919841921),\n",
       " Value(data=-0.9959230025537641),\n",
       " Value(data=-0.9992717632101777)]"
      ]
     },
     "execution_count": 53,
     "metadata": {},
     "output_type": "execute_result"
    }
   ],
   "source": [
    "ypred"
   ]
  }
 ],
 "metadata": {
  "kernelspec": {
   "display_name": "Python 3 (ipykernel)",
   "language": "python",
   "name": "python3"
  },
  "language_info": {
   "codemirror_mode": {
    "name": "ipython",
    "version": 3
   },
   "file_extension": ".py",
   "mimetype": "text/x-python",
   "name": "python",
   "nbconvert_exporter": "python",
   "pygments_lexer": "ipython3",
   "version": "3.7.12"
  }
 },
 "nbformat": 4,
 "nbformat_minor": 5
}
